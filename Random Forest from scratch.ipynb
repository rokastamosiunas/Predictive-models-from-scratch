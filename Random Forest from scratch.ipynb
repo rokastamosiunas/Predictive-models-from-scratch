{
 "cells": [
  {
   "cell_type": "markdown",
   "metadata": {},
   "source": [
    "## Simple regression tree\n",
    "\n",
    "Three step process:\n",
    "\n",
    "* The predictor to split on and value of the split\n",
    "* The depth or complexity of the tree\n",
    "* The prediction equation in the terminal nodes (skipped)\n",
    "\n",
    "Search every distinct value of every predictor to find the predictor and split value that partitions data into two groups such that following error is minimized\n",
    "\n",
    "$$ SSE = \\sum_{i\\in S_1} \\left( y_i - \\overline{y}_1 \\right)^2 + \\sum_{i\\in S_2} \\left( y_i - \\overline{y}_2 \\right)^2.$$\n",
    "\n",
    "Boston dataset from sklearn will be used as sample data."
   ]
  },
  {
   "cell_type": "code",
   "execution_count": 25,
   "metadata": {
    "collapsed": false
   },
   "outputs": [],
   "source": [
    "%matplotlib inline\n",
    "import matplotlib.pyplot as plt\n",
    "import pandas as pd\n",
    "import numpy as np\n",
    "from sklearn import datasets\n",
    "raw_data = datasets.load_boston()\n",
    "df = pd.DataFrame(raw_data['data'], columns = raw_data['feature_names']) \n",
    "cols = df.columns.values   # original columns, might be necessary later\n",
    "df['target'] = raw_data['target']\n",
    "np.random.seed(42)\n",
    "sample = np.random.rand(len(df))    # split data to train and test sets\n",
    "train_data = df[sample < 0.7].copy()\n",
    "test_data = df[sample >= 0.3].copy()"
   ]
  },
  {
   "cell_type": "markdown",
   "metadata": {},
   "source": [
    "Define method that enables to evaluate a split given the value"
   ]
  },
  {
   "cell_type": "code",
   "execution_count": 26,
   "metadata": {
    "collapsed": true
   },
   "outputs": [],
   "source": [
    "def mean_error(vector):\n",
    "    return sum((vector - vector.mean())**2)\n",
    "\n",
    "def eval_split(df, split):\n",
    "    return (mean_error(df[df.ix[:,0] >= split]['target']) \n",
    "            + mean_error(df[df.ix[:,0] < split]['target']))"
   ]
  },
  {
   "cell_type": "code",
   "execution_count": 27,
   "metadata": {
    "collapsed": false
   },
   "outputs": [],
   "source": [
    "def optimal_split(df):\n",
    "    errors = []\n",
    "    for column in df.columns.values[:list(df.columns.values).index('target')]:    # train only with columns that are before column 'target', see below\n",
    "        tmp_errors = []\n",
    "        for split in np.linspace(df[column].min(), df[column].max(), 100):\n",
    "            tmp_errors.append([eval_split(df[[column, 'target']], split), \n",
    "                               split, column])\n",
    "        errors.append(min(tmp_errors))\n",
    "    return min(errors)"
   ]
  },
  {
   "cell_type": "markdown",
   "metadata": {},
   "source": [
    "We will check if this split acctually shows relevant difference in target distribution."
   ]
  },
  {
   "cell_type": "code",
   "execution_count": 28,
   "metadata": {
    "collapsed": false
   },
   "outputs": [],
   "source": [
    "opt_split = optimal_split(train_data)"
   ]
  },
  {
   "cell_type": "code",
   "execution_count": 29,
   "metadata": {
    "collapsed": false
   },
   "outputs": [
    {
     "data": {
      "text/plain": [
       "<matplotlib.axes._subplots.AxesSubplot at 0x2abdab19a58>"
      ]
     },
     "execution_count": 29,
     "metadata": {},
     "output_type": "execute_result"
    },
    {
     "data": {
      "image/png": "[encoded data removed]",
      "text/plain": [
       "<matplotlib.figure.Figure at 0x2abdab3d8d0>"
      ]
     },
     "metadata": {},
     "output_type": "display_data"
    }
   ],
   "source": [
    "train_data[train_data[opt_split[2]] >= opt_split[1]]['target'].hist(bins = 20)"
   ]
  },
  {
   "cell_type": "code",
   "execution_count": 30,
   "metadata": {
    "collapsed": false
   },
   "outputs": [
    {
     "data": {
      "text/plain": [
       "<matplotlib.axes._subplots.AxesSubplot at 0x2abdaa7e588>"
      ]
     },
     "execution_count": 30,
     "metadata": {},
     "output_type": "execute_result"
    },
    {
     "data": {
      "image/png": "[encoded data removed]",
      "text/plain": [
       "<matplotlib.figure.Figure at 0x2abdad8a400>"
      ]
     },
     "metadata": {},
     "output_type": "display_data"
    }
   ],
   "source": [
    "train_data[train_data[opt_split[2]] < opt_split[1]]['target'].hist(bins=20)"
   ]
  },
  {
   "cell_type": "markdown",
   "metadata": {},
   "source": [
    "Each *split n* column will represent consecutive split. If leaf has less than $n$ nodes then it will get label *full*."
   ]
  },
  {
   "cell_type": "code",
   "execution_count": 31,
   "metadata": {
    "collapsed": false
   },
   "outputs": [],
   "source": [
    "def make_split(df, leaf_size):\n",
    "    if df.shape[0] > leaf_size:\n",
    "        opt_split = optimal_split(df)\n",
    "        return (df[opt_split[2]] < opt_split[1]).apply(lambda l:\n",
    "        '{0}<{1}'.format(opt_split[2], round(opt_split[1],2)) if l else '{0}>={1}'.format(opt_split[2], round(opt_split[1],2)))\n",
    "    else:\n",
    "        return df['target'].apply(lambda t: 'full')"
   ]
  },
  {
   "cell_type": "markdown",
   "metadata": {},
   "source": [
    "Following cycle repeats splits until all leafs are *full*."
   ]
  },
  {
   "cell_type": "code",
   "execution_count": 32,
   "metadata": {
    "collapsed": false
   },
   "outputs": [],
   "source": [
    "def train(train_data, leaf_size = 50):\n",
    "    train_data['split 1'] = make_split(train_data, leaf_size)\n",
    "    i = 2\n",
    "    while sum(train_data['split {0}'.format(i - 1)] == 'full') != train_data.shape[0]:\n",
    "        train_data['split {0}'.format(i)] = train_data.groupby(['split {0}'.format(l) for l in range(1, i)]).apply(\n",
    "            lambda d: make_split(d, leaf_size)).reset_index().set_index('level_{0}'.format(i-1)).ix[:, -1]\n",
    "        i += 1\n",
    "    rules = train_data.groupby(['split {0}'.format(l) for l in range(1, i-1)])['target'].mean().reset_index()\n",
    "    rules['parsed'] = rules[['split {0}'.format(l) for l in range(1, i-1)]].apply(\n",
    "        lambda row: ' and '.join([l for l in row if l != 'full']), axis=1)\n",
    "    return rules[['parsed', 'target']]\n",
    "\n",
    "def predict(test_data, rules):\n",
    "    for i in range(rules.shape[0]):\n",
    "        test_data.loc[test_data.query(rules['parsed'][i]).index, 'prediction'] = rules['target'][i]"
   ]
  },
  {
   "cell_type": "code",
   "execution_count": 48,
   "metadata": {
    "collapsed": false
   },
   "outputs": [
    {
     "data": {
      "text/html": [
       "<div>\n",
       "<table border=\"1\" class=\"dataframe\">\n",
       "  <thead>\n",
       "    <tr style=\"text-align: right;\">\n",
       "      <th></th>\n",
       "      <th>parsed</th>\n",
       "      <th>target</th>\n",
       "    </tr>\n",
       "  </thead>\n",
       "  <tbody>\n",
       "    <tr>\n",
       "      <th>0</th>\n",
       "      <td>RM&lt;6.8 and LSTAT&lt;14.83 and DIS&lt;1.46</td>\n",
       "      <td>40.483333</td>\n",
       "    </tr>\n",
       "    <tr>\n",
       "      <th>1</th>\n",
       "      <td>RM&lt;6.8 and LSTAT&lt;14.83 and DIS&gt;=1.46 and RM&lt;6....</td>\n",
       "      <td>23.185714</td>\n",
       "    </tr>\n",
       "    <tr>\n",
       "      <th>2</th>\n",
       "      <td>RM&lt;6.8 and LSTAT&lt;14.83 and DIS&gt;=1.46 and RM&lt;6....</td>\n",
       "      <td>18.831250</td>\n",
       "    </tr>\n",
       "    <tr>\n",
       "      <th>3</th>\n",
       "      <td>RM&lt;6.8 and LSTAT&lt;14.83 and DIS&gt;=1.46 and RM&lt;6....</td>\n",
       "      <td>22.370000</td>\n",
       "    </tr>\n",
       "    <tr>\n",
       "      <th>4</th>\n",
       "      <td>RM&lt;6.8 and LSTAT&lt;14.83 and DIS&gt;=1.46 and RM&lt;6....</td>\n",
       "      <td>20.520455</td>\n",
       "    </tr>\n",
       "  </tbody>\n",
       "</table>\n",
       "</div>"
      ],
      "text/plain": [
       "                                              parsed     target\n",
       "0                RM<6.8 and LSTAT<14.83 and DIS<1.46  40.483333\n",
       "1  RM<6.8 and LSTAT<14.83 and DIS>=1.46 and RM<6....  23.185714\n",
       "2  RM<6.8 and LSTAT<14.83 and DIS>=1.46 and RM<6....  18.831250\n",
       "3  RM<6.8 and LSTAT<14.83 and DIS>=1.46 and RM<6....  22.370000\n",
       "4  RM<6.8 and LSTAT<14.83 and DIS>=1.46 and RM<6....  20.520455"
      ]
     },
     "execution_count": 48,
     "metadata": {},
     "output_type": "execute_result"
    }
   ],
   "source": [
    "rules = train(train_data)\n",
    "rules.head()"
   ]
  },
  {
   "cell_type": "code",
   "execution_count": 34,
   "metadata": {
    "collapsed": true
   },
   "outputs": [],
   "source": [
    "predict(test_data, rules)"
   ]
  },
  {
   "cell_type": "code",
   "execution_count": 35,
   "metadata": {
    "collapsed": false
   },
   "outputs": [
    {
     "name": "stdout",
     "output_type": "stream",
     "text": [
      "RMSE 17.876409656947654\n"
     ]
    }
   ],
   "source": [
    "print('RMSE {0}'.format(np.mean((test_data['target'] - test_data['prediction'])**2)))"
   ]
  },
  {
   "cell_type": "markdown",
   "metadata": {},
   "source": [
    "Can we improve this score by expanding the structure?"
   ]
  },
  {
   "cell_type": "code",
   "execution_count": 18,
   "metadata": {
    "collapsed": false
   },
   "outputs": [
    {
     "name": "stdout",
     "output_type": "stream",
     "text": [
      "Leaf size 200 RMSE 30.269380373831417\n",
      "Leaf size 100 RMSE 28.68319500003491\n",
      "Leaf size 50 RMSE 17.876409656947654\n",
      "Leaf size 20 RMSE 13.212834654503839\n",
      "Leaf size 10 RMSE 11.2863938883272\n"
     ]
    }
   ],
   "source": [
    "for leaf_size in [200, 100, 50, 20, 10]:\n",
    "    rules = train(train_data, leaf_size)\n",
    "    predict(test_data, rules)\n",
    "    print('Leaf size {0} RMSE {1}'.format(leaf_size, np.mean((test_data['target'] - test_data['prediction'])**2)))"
   ]
  },
  {
   "cell_type": "markdown",
   "metadata": {},
   "source": [
    "Small leaf size leads to long computation time, thus $10$ will be used as optimal value."
   ]
  },
  {
   "cell_type": "markdown",
   "metadata": {},
   "source": [
    "## Regression tree with bagging\n",
    "\n",
    "General idea is as follows:\n",
    "\n",
    "1. Generate subset of data\n",
    "2. Construct a tree\n",
    "3. Repeat steps 1 and 2 for k times\n",
    "4. Cumpute final scores"
   ]
  },
  {
   "cell_type": "code",
   "execution_count": 43,
   "metadata": {
    "collapsed": false
   },
   "outputs": [],
   "source": [
    "predictions = pd.DataFrame()\n",
    "for i in range(10):    # ATTENTION: long run time, start with smaller values\n",
    "    predict(test_data, train(train_data.sample(100), leaf_size = 10))\n",
    "    predictions['bag_{0}'.format(i)] = test_data['prediction']"
   ]
  },
  {
   "cell_type": "code",
   "execution_count": 44,
   "metadata": {
    "collapsed": false
   },
   "outputs": [
    {
     "name": "stdout",
     "output_type": "stream",
     "text": [
      "Bagging RMSE 9.771014391227752\n"
     ]
    }
   ],
   "source": [
    "print('Bagging RMSE {0}'.format(np.mean((test_data['target'] - predictions.mean(axis = 1))**2)))"
   ]
  },
  {
   "cell_type": "markdown",
   "metadata": {},
   "source": [
    "## Random forest\n",
    "\n",
    "General idea is as follows:\n",
    "\n",
    "1. Generate subset of data and subset of features!\n",
    "2. Construct a tree\n",
    "3. Repeat steps 1 and 2 for k times\n",
    "4. Cumpute final scores"
   ]
  },
  {
   "cell_type": "code",
   "execution_count": 46,
   "metadata": {
    "collapsed": false
   },
   "outputs": [],
   "source": [
    "predictions = pd.DataFrame()\n",
    "for i in range(10):    # ATTENTION: long run time, start with smaller values\n",
    "    tmp_data = train_data.sample(100).ix[:, np.append(np.random.choice(cols, size=5, replace=False), 'target')].copy()\n",
    "    predict(test_data, train(tmp_data, leaf_size=10))\n",
    "    predictions['rand_{0}'.format(i)] = test_data['prediction']"
   ]
  },
  {
   "cell_type": "code",
   "execution_count": 47,
   "metadata": {
    "collapsed": false
   },
   "outputs": [
    {
     "name": "stdout",
     "output_type": "stream",
     "text": [
      "Random Forest RMSE 12.072897488930254\n"
     ]
    }
   ],
   "source": [
    "print('Random Forest RMSE {0}'.format(np.mean((test_data['target'] - predictions.mean(axis = 1))**2)))"
   ]
  },
  {
   "cell_type": "markdown",
   "metadata": {},
   "source": [
    "## Next steps\n",
    "\n",
    "* Inspect why rf structure gave no improvement\n",
    "* Implement pruning\n",
    "* Use predictive function instead of mean for the last leaf\n",
    "* Rewrite with tree class instead of data frames\n",
    "* Optimize to improve run time (currently single case takes ~30s)\n",
    "* Rewrite for classification problem"
   ]
  },
  {
   "cell_type": "code",
   "execution_count": null,
   "metadata": {
    "collapsed": true
   },
   "outputs": [],
   "source": []
  }
 ],
 "metadata": {
  "kernelspec": {
   "display_name": "Python 3",
   "language": "python",
   "name": "python3"
  },
  "language_info": {
   "codemirror_mode": {
    "name": "ipython",
    "version": 3
   },
   "file_extension": ".py",
   "mimetype": "text/x-python",
   "name": "python",
   "nbconvert_exporter": "python",
   "pygments_lexer": "ipython3",
   "version": "3.5.1"
  }
 },
 "nbformat": 4,
 "nbformat_minor": 0
}
